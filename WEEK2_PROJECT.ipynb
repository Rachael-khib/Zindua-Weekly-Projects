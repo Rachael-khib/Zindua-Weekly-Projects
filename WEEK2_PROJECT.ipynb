{
  "nbformat": 4,
  "nbformat_minor": 0,
  "metadata": {
    "colab": {
      "provenance": []
    },
    "kernelspec": {
      "name": "python3",
      "display_name": "Python 3"
    },
    "language_info": {
      "name": "python"
    }
  },
  "cells": [
    {
      "cell_type": "code",
      "execution_count": 1,
      "metadata": {
        "id": "iJ2-KztkupZm"
      },
      "outputs": [],
      "source": [
        "%load_ext sql"
      ]
    },
    {
      "cell_type": "code",
      "source": [
        "%sql sqlite:///stud_db"
      ],
      "metadata": {
        "id": "VHs_-s1Lu0hi"
      },
      "execution_count": 2,
      "outputs": []
    },
    {
      "cell_type": "code",
      "source": [
        "%%sql CREATE VIEW new_stud_details AS\n",
        "      SELECT stud_name, stud_email, phone_number, stud_ID\n",
        "      FROM personal_details\n",
        "      JOIN school_details ON personal_details.stud_ID = school_details.stud_ID;"
      ],
      "metadata": {
        "colab": {
          "base_uri": "https://localhost:8080/"
        },
        "id": "mhmTjAACvA9T",
        "outputId": "86d76eef-da0b-4ba1-b848-ee044716b8aa"
      },
      "execution_count": 3,
      "outputs": [
        {
          "output_type": "stream",
          "name": "stdout",
          "text": [
            " * sqlite:///stud_db\n",
            "Done.\n"
          ]
        },
        {
          "output_type": "execute_result",
          "data": {
            "text/plain": [
              "[]"
            ]
          },
          "metadata": {},
          "execution_count": 3
        }
      ]
    },
    {
      "cell_type": "code",
      "source": [
        "%%sql CREATE VIEW full_stud_details AS\n",
        "      SELECT *\n",
        "      FROM contact_details\n",
        "      JOIN school_details ON contact_details.stud_email = school_details.stud_email\n",
        "      JOIN financial_details ON school_details.stud_ID = financial_details.stud_ID;"
      ],
      "metadata": {
        "id": "WxuFVfxHvtjF"
      },
      "execution_count": null,
      "outputs": []
    },
    {
      "cell_type": "code",
      "source": [
        "%%sql CREATE VIEW updated_financial_details AS\n",
        "      SELECT\n",
        "         financial_details,\n",
        "         CASE\n",
        "            WHEN financial_details.stud_name IS NULL OR financial_details.stud_name = '' THEN personal_details.stud_name\n",
        "            ELSE financial_details.stud_name\n",
        "         END AS updated_stud_name\n",
        "         FROM financial_details\n",
        "         JOIN personal_details ON financial_stud_ID = personal_details.stud_ID;"
      ],
      "metadata": {
        "colab": {
          "base_uri": "https://localhost:8080/"
        },
        "id": "JdL_uTwTHlGN",
        "outputId": "84327356-1d2b-4121-d6ea-bcb8596f2883"
      },
      "execution_count": 9,
      "outputs": [
        {
          "output_type": "stream",
          "name": "stdout",
          "text": [
            " * sqlite:///stud_db\n",
            "Done.\n"
          ]
        },
        {
          "output_type": "execute_result",
          "data": {
            "text/plain": [
              "[]"
            ]
          },
          "metadata": {},
          "execution_count": 9
        }
      ]
    },
    {
      "cell_type": "code",
      "source": [
        "%%sql CREATE VIEW financial_details_view AS\n",
        "      SELECT *,\n",
        "          CASE WHEN fee_cleared IS NULL THEN 'False' ELSE 'True' END AS fee_cleared\n",
        "          FROM financial_details;"
      ],
      "metadata": {
        "colab": {
          "base_uri": "https://localhost:8080/"
        },
        "id": "5yMeCCvpKO_h",
        "outputId": "5544097e-9f73-4652-999a-9cb504915137"
      },
      "execution_count": 10,
      "outputs": [
        {
          "output_type": "stream",
          "name": "stdout",
          "text": [
            " * sqlite:///stud_db\n",
            "Done.\n"
          ]
        },
        {
          "output_type": "execute_result",
          "data": {
            "text/plain": [
              "[]"
            ]
          },
          "metadata": {},
          "execution_count": 10
        }
      ]
    },
    {
      "cell_type": "code",
      "source": [
        "%%sql CREATE VIEW fee_cleared AS\n",
        "      SELECT national_id, stud_name\n",
        "      FROM financial_details\n",
        "      WHERE fee_cleared = 'True'"
      ],
      "metadata": {
        "colab": {
          "base_uri": "https://localhost:8080/"
        },
        "id": "r5gZqc6NOh2d",
        "outputId": "97f43048-b405-47c2-91ca-994d2e4b34da"
      },
      "execution_count": 11,
      "outputs": [
        {
          "output_type": "stream",
          "name": "stdout",
          "text": [
            " * sqlite:///stud_db\n",
            "Done.\n"
          ]
        },
        {
          "output_type": "execute_result",
          "data": {
            "text/plain": [
              "[]"
            ]
          },
          "metadata": {},
          "execution_count": 11
        }
      ]
    },
    {
      "cell_type": "code",
      "source": [
        "%%sql CREATE VIEW total_fee_balance AS\n",
        "      SELECT\n",
        "           SUM(fee_paid) AS total_fees_paid,\n",
        "           SUM(current_deficit) AS total_current_deficit\n",
        "      FROM financial_details;"
      ],
      "metadata": {
        "colab": {
          "base_uri": "https://localhost:8080/"
        },
        "id": "xEy6RYCcPiSM",
        "outputId": "2c9cae99-d45d-496e-a21e-af3e872ae256"
      },
      "execution_count": 12,
      "outputs": [
        {
          "output_type": "stream",
          "name": "stdout",
          "text": [
            " * sqlite:///stud_db\n",
            "Done.\n"
          ]
        },
        {
          "output_type": "execute_result",
          "data": {
            "text/plain": [
              "[]"
            ]
          },
          "metadata": {},
          "execution_count": 12
        }
      ]
    },
    {
      "cell_type": "code",
      "source": [
        "%%sql CREATE VIEW home_county_count AS\n",
        "      SELECT current_home_county, COUNT(*) AS student_count\n",
        "      FROM school_details\n",
        "      GROUP BY current_home_county;\n"
      ],
      "metadata": {
        "colab": {
          "base_uri": "https://localhost:8080/"
        },
        "id": "Qkret1uTRs_L",
        "outputId": "8ed6b4f6-0f36-42c1-a630-63664d3f9f36"
      },
      "execution_count": 13,
      "outputs": [
        {
          "output_type": "stream",
          "name": "stdout",
          "text": [
            " * sqlite:///stud_db\n",
            "Done.\n"
          ]
        },
        {
          "output_type": "execute_result",
          "data": {
            "text/plain": [
              "[]"
            ]
          },
          "metadata": {},
          "execution_count": 13
        }
      ]
    },
    {
      "cell_type": "code",
      "source": [
        "%%sql CREATE VIEW secondary_school_count AS\n",
        "      SELECT secondary_school_county,\n",
        "            SUM(CASE WHEN gender = 'Male' THEN 1 ELSE 0 END) AS male_count,\n",
        "            SUM(CASE WHEN gender = 'Female' THEN 1 ELSE 0 END) AS female_count\n",
        "      FROM school_details\n",
        "      GROUP BY secondary_school_county;"
      ],
      "metadata": {
        "colab": {
          "base_uri": "https://localhost:8080/"
        },
        "id": "udanPo9qTFcW",
        "outputId": "bf6a8a01-d939-4d90-9bb2-0a8e14069010"
      },
      "execution_count": 14,
      "outputs": [
        {
          "output_type": "stream",
          "name": "stdout",
          "text": [
            " * sqlite:///stud_db\n",
            "Done.\n"
          ]
        },
        {
          "output_type": "execute_result",
          "data": {
            "text/plain": [
              "[]"
            ]
          },
          "metadata": {},
          "execution_count": 14
        }
      ]
    },
    {
      "cell_type": "code",
      "source": [
        "%%sql CREATE VIEW kin_percentage AS\n",
        "      SELECT CASE WHEN next_of_kin = 'Mother' THEN 'Mother' ELSE 'Father1' END AS kin_type,\n",
        "             COUNT(*) AS kin_count,\n",
        "             COUNT(*) * 100.0 / (SELECT COUNT(*) FROM contact_details) AS percentage\n",
        "      FROM contact_details\n",
        "      WHERE next_of_kin IN ('Mother', 'Father1')\n",
        "      GROUP BY kin_type;"
      ],
      "metadata": {
        "colab": {
          "base_uri": "https://localhost:8080/"
        },
        "id": "kOaZzVHEVO3t",
        "outputId": "717b2baf-a2a8-4ed3-dcb7-d5627851f5c9"
      },
      "execution_count": 15,
      "outputs": [
        {
          "output_type": "stream",
          "name": "stdout",
          "text": [
            " * sqlite:///stud_db\n",
            "Done.\n"
          ]
        },
        {
          "output_type": "execute_result",
          "data": {
            "text/plain": [
              "[]"
            ]
          },
          "metadata": {},
          "execution_count": 15
        }
      ]
    }
  ]
}